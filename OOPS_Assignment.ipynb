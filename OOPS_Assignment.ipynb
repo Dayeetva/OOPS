{
  "nbformat": 4,
  "nbformat_minor": 0,
  "metadata": {
    "colab": {
      "provenance": []
    },
    "kernelspec": {
      "name": "python3",
      "display_name": "Python 3"
    },
    "language_info": {
      "name": "python"
    }
  },
  "cells": [
    {
      "cell_type": "markdown",
      "source": [
        "# Object-Oriented Programming (OOP) Assignment in Python\n",
        "\n",
        "### 1. What is Object-Oriented Programming (OOP)?\n",
        "#### A way of structuring code using objects and classes. It makes complex programs easier to manage by grouping related data and behaviors.\n",
        "\n",
        "### 2. What is a class in OOP?\n",
        "#### A class is like a blueprint for creating objects. It defines attributes (data) and methods (functions).\n",
        "\n",
        "### 3. What is an object in OOP?\n",
        "#### An object is an instance of a class. It contains real values instead of just the design.\n",
        "\n",
        "### 4. What is the difference between abstraction and encapsulation?\n",
        "#### Abstraction hides complexity and shows only the essentials. Encapsulation hides the internal state and allows access only through methods.\n",
        "\n",
        "### 5. What are dunder methods in Python?\n",
        "#### “Dunder” means double underscore, like `__init__`, `__str__`. These are special methods that customize class behavior.\n",
        "\n",
        "### 6. Explain the concept of inheritance in OOP\n",
        "#### Inheritance lets one class (child) use the properties and methods of another class (parent), avoiding code duplication.\n",
        "\n",
        "### 7. What is polymorphism in OOP?\n",
        "#### Polymorphism means \"many forms\". It allows different classes to be treated as the same interface. Example: `+` works with both numbers and strings.\n",
        "\n",
        "### 8. How is encapsulation achieved in Python?\n",
        "#### Using private variables (by convention: `_var` or `__var`) and getters/setters methods to control access.\n",
        "\n",
        "### 9. What is a constructor in Python?\n",
        "#### A constructor is the `__init__` method that runs automatically when an object is created from a class.\n",
        "\n",
        "### 10. What are class and static methods in Python?\n",
        "#### Class method (`@classmethod`) uses `cls` and affects the whole class. Static method (`@staticmethod`) doesn’t need `self` or `cls`.\n",
        "\n",
        "### 11. What is method overloading in Python?\n",
        "#### Defining multiple methods with the same name but different parameters (not fully supported in Python like other languages).\n",
        "\n",
        "### 12. What is method overriding in OOP?\n",
        "#### When a child class redefines a method from the parent class to change its behavior.\n",
        "\n",
        "### 13. What is a property decorator in Python?\n",
        "#### `@property` allows you to define methods that behave like attributes for cleaner access to private data.\n",
        "\n",
        "### 14. Why is polymorphism important in OOP?\n",
        "#### It allows flexibility — the same function can work with different types of objects.\n",
        "\n",
        "### 15. What is an abstract class in Python?\n",
        "#### A class that can’t be instantiated directly and is meant to be inherited. It contains abstract methods that must be defined by subclasses.\n",
        "\n",
        "### 16. What are the advantages of OOP?\n",
        "#### Reusability, modularity, easier maintenance, and better organization of code.\n",
        "\n",
        "### 17. What is the difference between a class variable and an instance variable?\n",
        "#### Class variable is shared across all instances. Instance variable is unique to each object.\n",
        "\n",
        "### 18. What is multiple inheritance in Python?\n",
        "#### A class can inherit from more than one parent class.\n",
        "\n",
        "### 19. Explain the purpose of ‘__str__’ and ‘__repr__’ methods in Python\n",
        "#### `__str__` returns a user-friendly string. `__repr__` returns a developer-friendly string for debugging.\n",
        "\n",
        "### 20. What is the significance of the ‘super()’ function in Python?\n",
        "#### `super()` lets you call methods from a parent class in a child class.\n",
        "\n",
        "### 21. What is the significance of the `__del__` method in Python?\n",
        "#### It’s called when an object is deleted. It can be used to clean up resources.\n",
        "\n",
        "### 22. What is the difference between @staticmethod and @classmethod in Python?\n",
        "#### Static doesn’t use class or instance data. Class method works on the class itself using `cls`.\n",
        "\n",
        "### 23. How does polymorphism work in Python with inheritance?\n",
        "#### A parent class reference can point to a child class object and call its method, enabling dynamic behavior.\n",
        "\n",
        "### 24. What is method chaining in Python OOP?\n",
        "#### Calling multiple methods in a single line like: `obj.method1().method2()` by returning `self` from each method.\n",
        "\n",
        "### 25. What is the purpose of the `__call__` method in Python?\n",
        "#### It allows an object to be called like a function.\n"
      ],
      "metadata": {
        "id": "0bIUTp3yVw4Q"
      }
    },
    {
      "cell_type": "code",
      "source": [
        "# 1. Create a parent class Animal with a method speak() that prints a generic message. Create a child class Dog that overrides the speak() method to print \"Bark!\".\n",
        "\n",
        "# 1. Create a parent class Animal with a method speak()\n",
        "class Animal:\n",
        "    def speak(self):\n",
        "        # This method prints a generic message\n",
        "        print(\"Animal makes a sound\")\n",
        "\n",
        "# 2. Create a child class Dog that overrides the speak() method\n",
        "class Dog(Animal):\n",
        "    def speak(self):\n",
        "        # Overridden method to print \"Bark!\"\n",
        "        print(\"Bark!\")\n",
        "\n",
        "# Create an object of Dog class\n",
        "my_dog = Dog()\n",
        "\n",
        "# Call the speak() method\n",
        "my_dog.speak()  # Output: Bark!\n"
      ],
      "metadata": {
        "id": "BBdWSo1IWXvJ",
        "colab": {
          "base_uri": "https://localhost:8080/"
        },
        "outputId": "ae4e802e-c037-464d-9406-b498bbc0cc32"
      },
      "execution_count": null,
      "outputs": [
        {
          "output_type": "stream",
          "name": "stdout",
          "text": [
            "Bark!\n"
          ]
        }
      ]
    },
    {
      "cell_type": "code",
      "source": [
        "# 2. Write a program to create an abstract class Shape with a method area(). Derive classes Circle and Rectangle from it and implement the area() method in both. from abc import ABC, abstractmethod\n",
        "\n",
        "# Creating an abstract base class\n",
        "from abc import ABC, abstractmethod\n",
        "class Shape(ABC):\n",
        "    @abstractmethod\n",
        "    def area(self):\n",
        "        # Abstract method to be implemented by child classes\n",
        "        pass\n",
        "\n",
        "# Derive class Circle from Shape\n",
        "import math\n",
        "class Circle(Shape):\n",
        "    def __init__(self, radius):\n",
        "        self.radius = radius\n",
        "\n",
        "    def area(self):\n",
        "        # Implement area for Circle\n",
        "        return math.pi * self.radius ** 2\n",
        "\n",
        "# Derive class Rectangle from Shape\n",
        "class Rectangle(Shape):\n",
        "    def __init__(self, length, width):\n",
        "        self.length = length\n",
        "        self.width = width\n",
        "\n",
        "    def area(self):\n",
        "        # Implement area for Rectangle\n",
        "        return self.length * self.width\n",
        "\n",
        "# Create objects and call area() method\n",
        "circle = Circle(5)\n",
        "rectangle = Rectangle(4, 6)\n",
        "\n",
        "print(\"Area of Circle:\", circle.area())        # Output: Area of Circle: 78.54...\n",
        "print(\"Area of Rectangle:\", rectangle.area())  # Output: Area of Rectangle: 24\n"
      ],
      "metadata": {
        "colab": {
          "base_uri": "https://localhost:8080/"
        },
        "id": "ywYWDyiMYJFl",
        "outputId": "9f9252b6-b96d-44d1-d895-b5298f075719"
      },
      "execution_count": null,
      "outputs": [
        {
          "output_type": "stream",
          "name": "stdout",
          "text": [
            "Area of Circle: 78.53981633974483\n",
            "Area of Rectangle: 24\n"
          ]
        }
      ]
    },
    {
      "cell_type": "code",
      "source": [
        "# 3. Implement a multi-level inheritance scenario where a class Vehicle has an attribute type. Derive a class Car and further derive a class ElectricCar that adds a battery attribute.\n",
        "\n",
        "# Implement a multi-level inheritance scenario where:\n",
        "# a class Vehicle has an attribute type.\n",
        "# Derive a class Car and further derive a class ElectricCar that adds a battery attribute.\n",
        "\n",
        "# Base class\n",
        "class Vehicle:\n",
        "    def __init__(self, vehicle_type):\n",
        "        self.vehicle_type = vehicle_type\n",
        "\n",
        "    def show_type(self):\n",
        "        print(\"Vehicle Type:\", self.vehicle_type)\n",
        "\n",
        "# Derived class from Vehicle\n",
        "class Car(Vehicle):\n",
        "    def __init__(self, vehicle_type, brand):\n",
        "        # Call parent constructor\n",
        "        super().__init__(vehicle_type)\n",
        "        self.brand = brand\n",
        "\n",
        "    def show_brand(self):\n",
        "        print(\"Car Brand:\", self.brand)\n",
        "\n",
        "# Further derived class from Car\n",
        "class ElectricCar(Car):\n",
        "    def __init__(self, vehicle_type, brand, battery_capacity):\n",
        "        # Call parent constructor\n",
        "        super().__init__(vehicle_type, brand)\n",
        "        self.battery_capacity = battery_capacity\n",
        "\n",
        "    def show_battery(self):\n",
        "        print(\"Battery Capacity:\", self.battery_capacity, \"kWh\")\n",
        "\n",
        "# Create object of ElectricCar\n",
        "my_electric_car = ElectricCar(\"Four-Wheeler\", \"Tesla\", 85)\n",
        "\n",
        "# Display all attributes using methods\n",
        "my_electric_car.show_type()     # Output: Vehicle Type: Four-Wheeler\n",
        "my_electric_car.show_brand()    # Output: Car Brand: Tesla\n",
        "my_electric_car.show_battery()  # Output: Battery Capacity: 85 kWh\n"
      ],
      "metadata": {
        "colab": {
          "base_uri": "https://localhost:8080/"
        },
        "id": "zGtqfvMCYVL4",
        "outputId": "3cd93236-7a00-4910-db0e-6387fd5ce011"
      },
      "execution_count": null,
      "outputs": [
        {
          "output_type": "stream",
          "name": "stdout",
          "text": [
            "Vehicle Type: Four-Wheeler\n",
            "Car Brand: Tesla\n",
            "Battery Capacity: 85 kWh\n"
          ]
        }
      ]
    },
    {
      "cell_type": "code",
      "source": [
        "# 4. Demonstrate polymorphism by creating a base class Bird with a method fly(). Create two derived classes Sparrow and Penguin that override the fly() method.\n",
        "\n",
        "# Demonstrate polymorphism using method overriding in derived classes\n",
        "\n",
        "# Base class\n",
        "class Bird:\n",
        "    def fly(self):\n",
        "        # Generic fly method\n",
        "        print(\"Bird is flying\")\n",
        "\n",
        "# Derived class Sparrow overrides the fly method\n",
        "class Sparrow(Bird):\n",
        "    def fly(self):\n",
        "        print(\"Sparrow flies high in the sky\")\n",
        "\n",
        "# Derived class Penguin overrides the fly method\n",
        "class Penguin(Bird):\n",
        "    def fly(self):\n",
        "        print(\"Penguins cannot fly, they swim\")\n",
        "\n",
        "# Create objects of both classes\n",
        "bird1 = Sparrow()\n",
        "bird2 = Penguin()\n",
        "\n",
        "# Call fly method for each (demonstrates polymorphism)\n",
        "bird1.fly()   # Output: Sparrow flies high in the sky\n",
        "bird2.fly()   # Output: Penguins cannot fly, they swim\n",
        "\n"
      ],
      "metadata": {
        "colab": {
          "base_uri": "https://localhost:8080/"
        },
        "id": "k5iWlB-TZdhX",
        "outputId": "97c8949d-1006-41d4-b354-5e38be96b116"
      },
      "execution_count": null,
      "outputs": [
        {
          "output_type": "stream",
          "name": "stdout",
          "text": [
            "Sparrow flies high in the sky\n",
            "Penguins cannot fly, they swim\n"
          ]
        }
      ]
    },
    {
      "cell_type": "code",
      "source": [
        "# 5. Write a program to demonstrate encapsulation by creating a class BankAccount with private attributes balance and methods to deposit, withdraw, and check balance.\n",
        "\n",
        "# Demonstrate encapsulation using a BankAccount class\n",
        "\n",
        "class BankAccount:\n",
        "    def __init__(self, initial_balance=0):\n",
        "        # Private attribute (encapsulated)\n",
        "        self.__balance = initial_balance\n",
        "\n",
        "    def deposit(self, amount):\n",
        "        # Public method to add money\n",
        "        if amount > 0:\n",
        "            self.__balance += amount\n",
        "            print(f\"Deposited ₹{amount}\")\n",
        "        else:\n",
        "            print(\"Enter a valid amount to deposit\")\n",
        "\n",
        "    def withdraw(self, amount):\n",
        "        # Public method to withdraw money\n",
        "        if 0 < amount <= self.__balance:\n",
        "            self.__balance -= amount\n",
        "            print(f\"Withdrew ₹{amount}\")\n",
        "        else:\n",
        "            print(\"Insufficient balance or invalid amount\")\n",
        "\n",
        "    def check_balance(self):\n",
        "        # Public method to check balance\n",
        "        print(f\"Current balance: ₹{self.__balance}\")\n",
        "\n",
        "# Create an object of BankAccount\n",
        "account = BankAccount(1000)  # Starting with ₹1000\n",
        "\n",
        "# Perform some operations\n",
        "account.check_balance()\n",
        "account.deposit(500)\n",
        "account.withdraw(300)\n",
        "account.check_balance()\n",
        "\n",
        "# Trying to access private variable directly (should be avoided)\n",
        "# print(account.__balance)  # This will cause an error\n"
      ],
      "metadata": {
        "colab": {
          "base_uri": "https://localhost:8080/"
        },
        "id": "NUJG91TPZ20v",
        "outputId": "0b4c0e3e-b0b0-4857-9dbf-cd23e0c8a0c8"
      },
      "execution_count": null,
      "outputs": [
        {
          "output_type": "stream",
          "name": "stdout",
          "text": [
            "Current balance: ₹1000\n",
            "Deposited ₹500\n",
            "Withdrew ₹300\n",
            "Current balance: ₹1200\n"
          ]
        }
      ]
    },
    {
      "cell_type": "code",
      "source": [
        "# 6. Demonstrate runtime polymorphism using a method play() in a base class Instrument. Derive classes Guitar and Piano that implement their own version of play().\n",
        "\n",
        "# Demonstrate runtime polymorphism using a method play() in a base class Instrument\n",
        "\n",
        "# Base class\n",
        "class Instrument:\n",
        "    def play(self):\n",
        "        # Generic method to be overridden\n",
        "        print(\"Playing an instrument...\")\n",
        "\n",
        "# Derived class 1\n",
        "class Guitar(Instrument):\n",
        "    def play(self):\n",
        "        # Overriding play method\n",
        "        print(\"Strumming the guitar 🎸\")\n",
        "\n",
        "# Derived class 2\n",
        "class Piano(Instrument):\n",
        "    def play(self):\n",
        "        # Overriding play method\n",
        "        print(\"Playing the piano 🎹\")\n",
        "\n",
        "# Function to demonstrate runtime polymorphism\n",
        "def show_instrument_play(instrument):\n",
        "    instrument.play()  # Method depends on actual object type at runtime\n",
        "\n",
        "# Creating objects\n",
        "g = Guitar()\n",
        "p = Piano()\n",
        "\n",
        "# Demonstrating polymorphism\n",
        "show_instrument_play(g)  # Output: Strumming the guitar 🎸\n",
        "show_instrument_play(p)  # Output: Playing the piano 🎹\n"
      ],
      "metadata": {
        "colab": {
          "base_uri": "https://localhost:8080/"
        },
        "id": "GH3EXkEcanDf",
        "outputId": "f785dd10-6b80-4bf0-d108-2b46213802bc"
      },
      "execution_count": null,
      "outputs": [
        {
          "output_type": "stream",
          "name": "stdout",
          "text": [
            "Strumming the guitar 🎸\n",
            "Playing the piano 🎹\n"
          ]
        }
      ]
    },
    {
      "cell_type": "code",
      "source": [
        "# 7. Create a class MathOperations with a class method add_numbers() to add two numbers and a static method subtract_numbers() to subtract two numbers.\n",
        "\n",
        "# Create a class MathOperations with a class method add_numbers()\n",
        "#    to add two numbers and a static method subtract_numbers() to subtract two numbers.\n",
        "\n",
        "class MathOperations:\n",
        "\n",
        "    # Class method: can access class-level data (not used here, but still uses cls as the first argument)\n",
        "    @classmethod\n",
        "    def add_numbers(cls, a, b):\n",
        "        return a + b\n",
        "\n",
        "    # Static method: behaves like a normal function, no self or cls needed\n",
        "    @staticmethod\n",
        "    def subtract_numbers(a, b):\n",
        "        return a - b\n",
        "\n",
        "# Using the class method\n",
        "result_add = MathOperations.add_numbers(10, 5)\n",
        "print(\"Addition:\", result_add)  # Output: 15\n",
        "\n",
        "# Using the static method\n",
        "result_subtract = MathOperations.subtract_numbers(10, 5)\n",
        "print(\"Subtraction:\", result_subtract)  # Output: 5\n"
      ],
      "metadata": {
        "colab": {
          "base_uri": "https://localhost:8080/"
        },
        "id": "L69HM-Wqiqq9",
        "outputId": "4364a6b7-bf5b-4c61-cd76-427b7b516c41"
      },
      "execution_count": null,
      "outputs": [
        {
          "output_type": "stream",
          "name": "stdout",
          "text": [
            "Addition: 15\n",
            "Subtraction: 5\n"
          ]
        }
      ]
    },
    {
      "cell_type": "code",
      "source": [
        "# 8. Implement a class Person with a class method to count the total number of persons created.\n",
        "\n",
        "# Implement a class Person with a class method to count the total number of persons created.\n",
        "\n",
        "class Person:\n",
        "    # Class variable to keep track of total persons\n",
        "    total_persons = 0\n",
        "\n",
        "    def __init__(self, name):\n",
        "        self.name = name\n",
        "        # Increase count when a new object is created\n",
        "        Person.total_persons += 1\n",
        "\n",
        "    # Class method to get total number of persons\n",
        "    @classmethod\n",
        "    def count_persons(cls):\n",
        "        return cls.total_persons\n",
        "\n",
        "# Creating person objects\n",
        "p1 = Person(\"Alice\")\n",
        "p2 = Person(\"Bob\")\n",
        "p3 = Person(\"Charlie\")\n",
        "\n",
        "# Display total persons created\n",
        "print(\"Total persons created:\", Person.count_persons())  # Output: 3\n"
      ],
      "metadata": {
        "colab": {
          "base_uri": "https://localhost:8080/"
        },
        "id": "EdSkh39bi3GV",
        "outputId": "2dca8b67-d52c-49e5-93a6-2e04095f9bf4"
      },
      "execution_count": null,
      "outputs": [
        {
          "output_type": "stream",
          "name": "stdout",
          "text": [
            "Total persons created: 3\n"
          ]
        }
      ]
    },
    {
      "cell_type": "code",
      "source": [
        "# 9. Write a class Fraction with attributes numerator and denominator. Override the str method to display the fraction as \"numerator/denominator\".\n",
        "\n",
        "#  Write a class Fraction with attributes numerator and denominator.\n",
        "#    Override the __str__ method to display the fraction as \"numerator/denominator\".\n",
        "\n",
        "class Fraction:\n",
        "    def __init__(self, numerator, denominator):\n",
        "        self.numerator = numerator\n",
        "        self.denominator = denominator\n",
        "\n",
        "    # Overriding the __str__ method to display as \"numerator/denominator\"\n",
        "    def __str__(self):\n",
        "        return f\"{self.numerator}/{self.denominator}\"\n",
        "\n",
        "# Creating fraction objects\n",
        "f1 = Fraction(3, 4)\n",
        "f2 = Fraction(5, 8)\n",
        "\n",
        "# Printing the fractions\n",
        "print(f1)  # Output: 3/4\n",
        "print(f2)  # Output: 5/8\n"
      ],
      "metadata": {
        "colab": {
          "base_uri": "https://localhost:8080/"
        },
        "id": "9Iy2uZzni8NE",
        "outputId": "6e2f5193-af63-452c-dfd6-f3dd4ee856ac"
      },
      "execution_count": null,
      "outputs": [
        {
          "output_type": "stream",
          "name": "stdout",
          "text": [
            "3/4\n",
            "5/8\n"
          ]
        }
      ]
    },
    {
      "cell_type": "code",
      "source": [
        "# 10. Demonstrate operator overloading by creating a class Vector and overriding the add method to add two vectors.\n",
        "\n",
        "#  Demonstrate operator overloading by creating a class Vector\n",
        "#     and overriding the add method to add two vectors.\n",
        "\n",
        "class Vector:\n",
        "    def __init__(self, x, y):\n",
        "        self.x = x  # x-component of vector\n",
        "        self.y = y  # y-component of vector\n",
        "\n",
        "    # Overloading the '+' operator using __add__ method\n",
        "    def __add__(self, other):\n",
        "        return Vector(self.x + other.x, self.y + other.y)\n",
        "\n",
        "    # For displaying the vector as (x, y)\n",
        "    def __str__(self):\n",
        "        return f\"({self.x}, {self.y})\"\n",
        "\n",
        "# Creating two vectors\n",
        "v1 = Vector(2, 3)\n",
        "v2 = Vector(4, 5)\n",
        "\n",
        "# Adding two vectors using '+' operator\n",
        "v3 = v1 + v2\n",
        "\n",
        "# Printing the result\n",
        "print(\"Vector 1:\", v1)\n",
        "print(\"Vector 2:\", v2)\n",
        "print(\"Sum of vectors:\", v3)\n"
      ],
      "metadata": {
        "colab": {
          "base_uri": "https://localhost:8080/"
        },
        "id": "F1_oF608kQ1E",
        "outputId": "4ceb6a48-af50-4d4c-9661-20639cb35ebb"
      },
      "execution_count": null,
      "outputs": [
        {
          "output_type": "stream",
          "name": "stdout",
          "text": [
            "Vector 1: (2, 3)\n",
            "Vector 2: (4, 5)\n",
            "Sum of vectors: (6, 8)\n"
          ]
        }
      ]
    },
    {
      "cell_type": "code",
      "source": [
        "# 11. Create a class Person with attributes name and age. Add a method greet() that prints \"Hello, my name is {name} and I am {age} years old.\"\n",
        "\n",
        "# Create a class Person with attributes name and age.\n",
        "# Add a method greet() that prints \"Hello, my name is {name} and I am {age} years old.\"\n",
        "\n",
        "class Person:\n",
        "    def __init__(self, name, age):\n",
        "        # Initializing name and age attributes\n",
        "        self.name = name\n",
        "        self.age = age\n",
        "\n",
        "    def greet(self):\n",
        "        # Method to greet with the person's name and age\n",
        "        print(f\"Hello, my name is {self.name} and I am {self.age} years old.\")\n",
        "\n",
        "# Creating an object of the Person class\n",
        "p1 = Person(\"Mani\", 22)\n",
        "\n",
        "# Calling the greet method\n",
        "p1.greet()\n"
      ],
      "metadata": {
        "colab": {
          "base_uri": "https://localhost:8080/"
        },
        "id": "4OyLIoTckYks",
        "outputId": "09040448-d22d-401b-92fa-265dd3cf9b8c"
      },
      "execution_count": null,
      "outputs": [
        {
          "output_type": "stream",
          "name": "stdout",
          "text": [
            "Hello, my name is Mani and I am 22 years old.\n"
          ]
        }
      ]
    },
    {
      "cell_type": "code",
      "source": [
        "# 12. Implement a class Student with attributes name and grades. Create a method average_grade() to compute the average of the grades.\n",
        "\n",
        "# Implement a class Student with attributes name and grades.\n",
        "# Create a method average_grade() to compute the average of the grades.\n",
        "\n",
        "class Student:\n",
        "    def __init__(self, name, grades):\n",
        "        # Initializing name and grades (grades should be a list of numbers)\n",
        "        self.name = name\n",
        "        self.grades = grades\n",
        "\n",
        "    def average_grade(self):\n",
        "        # Method to calculate the average grade\n",
        "        if len(self.grades) == 0:\n",
        "            return 0\n",
        "        return sum(self.grades) / len(self.grades)\n",
        "\n",
        "# Creating a student object with name and a list of grades\n",
        "s1 = Student(\"Mani\", [85, 90, 78, 92])\n",
        "\n",
        "# Printing the average grade\n",
        "print(f\"Average grade for {s1.name} is: {s1.average_grade()}\")\n"
      ],
      "metadata": {
        "colab": {
          "base_uri": "https://localhost:8080/"
        },
        "id": "P-927-4qlRp0",
        "outputId": "a4aec319-189c-404c-df66-945d479539e4"
      },
      "execution_count": null,
      "outputs": [
        {
          "output_type": "stream",
          "name": "stdout",
          "text": [
            "Average grade for Mani is: 86.25\n"
          ]
        }
      ]
    },
    {
      "cell_type": "code",
      "source": [
        "# 13. Create a class Rectangle with methods set_dimensions() to set the dimensions and area() to calculate the area.\n",
        "\n",
        "# Create a class Rectangle with methods set_dimensions() to set the dimensions\n",
        "# and area() to calculate the area.\n",
        "\n",
        "class Rectangle:\n",
        "    def __init__(self):\n",
        "        # Initialize length and width to 0\n",
        "        self.length = 0\n",
        "        self.width = 0\n",
        "\n",
        "    def set_dimensions(self, length, width):\n",
        "        # Method to set the dimensions of the rectangle\n",
        "        self.length = length\n",
        "        self.width = width\n",
        "\n",
        "    def area(self):\n",
        "        # Method to calculate and return the area of the rectangle\n",
        "        return self.length * self.width\n",
        "\n",
        "# Create an object of Rectangle\n",
        "rect = Rectangle()\n",
        "\n",
        "# Set the dimensions\n",
        "rect.set_dimensions(10, 5)\n",
        "\n",
        "# Calculate and print the area\n",
        "print(\"Area of rectangle is:\", rect.area())\n"
      ],
      "metadata": {
        "colab": {
          "base_uri": "https://localhost:8080/"
        },
        "id": "zQlNnofNlf6j",
        "outputId": "3acfaac5-ec4e-43ef-c108-513660b41a8f"
      },
      "execution_count": null,
      "outputs": [
        {
          "output_type": "stream",
          "name": "stdout",
          "text": [
            "Area of rectangle is: 50\n"
          ]
        }
      ]
    },
    {
      "cell_type": "code",
      "source": [
        "# 14. Create a class Employee with a method calculate_salary() that computes the salary based on hours worked and hourly rate. Create a derived class Manager that adds a bonus to the salary.\n",
        "\n",
        "# 14. Create a class Employee with a method calculate_salary()\n",
        "# that computes salary based on hours worked and hourly rate.\n",
        "# Create a derived class Manager that adds a bonus to the salary.\n",
        "\n",
        "# Base class\n",
        "class Employee:\n",
        "    def __init__(self, hours_worked, hourly_rate):\n",
        "        self.hours_worked = hours_worked\n",
        "        self.hourly_rate = hourly_rate\n",
        "\n",
        "    def calculate_salary(self):\n",
        "        # Basic salary = hours worked × hourly rate\n",
        "        return self.hours_worked * self.hourly_rate\n",
        "\n",
        "# Derived class (Manager)\n",
        "class Manager(Employee):\n",
        "    def __init__(self, hours_worked, hourly_rate, bonus):\n",
        "        # Call parent constructor\n",
        "        super().__init__(hours_worked, hourly_rate)\n",
        "        self.bonus = bonus\n",
        "\n",
        "    def calculate_salary(self):\n",
        "        # Manager's salary = base salary + bonus\n",
        "        base_salary = super().calculate_salary()\n",
        "        return base_salary + self.bonus\n",
        "\n",
        "# Example usage:\n",
        "emp = Employee(40, 200)\n",
        "print(\"Employee Salary:\", emp.calculate_salary())  # 8000\n",
        "\n",
        "mgr = Manager(40, 200, 5000)\n",
        "print(\"Manager Salary:\", mgr.calculate_salary())   # 13000\n"
      ],
      "metadata": {
        "colab": {
          "base_uri": "https://localhost:8080/"
        },
        "id": "6H8UBXrqlq08",
        "outputId": "c3194537-17bd-4a49-cc98-c94804b300a0"
      },
      "execution_count": null,
      "outputs": [
        {
          "output_type": "stream",
          "name": "stdout",
          "text": [
            "Employee Salary: 8000\n",
            "Manager Salary: 13000\n"
          ]
        }
      ]
    },
    {
      "cell_type": "code",
      "source": [
        "# 15. Create a class Product with attributes name, price, and quantity. Implement a method total_price() that calculates the total price of the product.\n",
        "\n",
        "# 15. Create a class Product with attributes name, price, and quantity.\n",
        "# Implement a method total_price() that calculates the total price of the product.\n",
        "\n",
        "class Product:\n",
        "    def __init__(self, name, price, quantity):\n",
        "        # Initialize attributes\n",
        "        self.name = name\n",
        "        self.price = price\n",
        "        self.quantity = quantity\n",
        "\n",
        "    def total_price(self):\n",
        "        # Total price = price per item × quantity\n",
        "        return self.price * self.quantity\n",
        "\n",
        "# Example usage:\n",
        "p1 = Product(\"Notebook\", 50, 4)\n",
        "print(\"Product:\", p1.name)\n",
        "print(\"Total Price:\", p1.total_price())  # Output: 200\n"
      ],
      "metadata": {
        "colab": {
          "base_uri": "https://localhost:8080/"
        },
        "id": "BtPxu2y-lwxj",
        "outputId": "948956b1-1d70-4b66-c031-cb2227c8b7f1"
      },
      "execution_count": null,
      "outputs": [
        {
          "output_type": "stream",
          "name": "stdout",
          "text": [
            "Product: Notebook\n",
            "Total Price: 200\n"
          ]
        }
      ]
    },
    {
      "cell_type": "code",
      "source": [
        "# 16. Create a class Animal with an abstract method sound(). Create two derived classes Cow and Sheep that implement the sound() method.\n",
        "\n",
        "# Create a class Animal with an abstract method sound().\n",
        "# Create two derived classes Cow and Sheep that implement the sound() method.\n",
        "\n",
        "from abc import ABC, abstractmethod\n",
        "\n",
        "# Abstract base class\n",
        "class Animal(ABC):\n",
        "\n",
        "    @abstractmethod\n",
        "    def sound(self):\n",
        "        # Abstract method (no implementation here)\n",
        "        pass\n",
        "\n",
        "# Derived class Cow\n",
        "class Cow(Animal):\n",
        "    def sound(self):\n",
        "        print(\"Cow says Moo\")\n",
        "\n",
        "# Derived class Sheep\n",
        "class Sheep(Animal):\n",
        "    def sound(self):\n",
        "        print(\"Sheep says Baa\")\n",
        "\n",
        "# Example usage\n",
        "cow = Cow()\n",
        "sheep = Sheep()\n",
        "\n",
        "cow.sound()    # Output: Cow says Moo\n",
        "sheep.sound()  # Output: Sheep says Baa\n"
      ],
      "metadata": {
        "colab": {
          "base_uri": "https://localhost:8080/"
        },
        "id": "MRcuYW4Xl5KL",
        "outputId": "c72dfa34-10a6-46b8-d017-d55f8b9d17a5"
      },
      "execution_count": null,
      "outputs": [
        {
          "output_type": "stream",
          "name": "stdout",
          "text": [
            "Cow says Moo\n",
            "Sheep says Baa\n"
          ]
        }
      ]
    },
    {
      "cell_type": "code",
      "source": [
        "# 17. Create a class Book with attributes title, author, and year_published. Add a method get_book_info() that returns a formatted string with the book's details.\n",
        "\n",
        "# Create a class Book with attributes title, author, and year_published.\n",
        "# Add a method get_book_info() that returns a formatted string with the book's details.\n",
        "\n",
        "class Book:\n",
        "    def __init__(self, title, author, year_published):\n",
        "        # Initializing the attributes\n",
        "        self.title = title\n",
        "        self.author = author\n",
        "        self.year_published = year_published\n",
        "\n",
        "    def get_book_info(self):\n",
        "        # Returning the formatted string with book details\n",
        "        return f\"'{self.title}' by {self.author}, published in {self.year_published}\"\n",
        "\n",
        "# Example usage\n",
        "book1 = Book(\"To Kill a Mockingbird\", \"Harper Lee\", 1960)\n",
        "print(book1.get_book_info())\n"
      ],
      "metadata": {
        "colab": {
          "base_uri": "https://localhost:8080/"
        },
        "id": "Cbf6CYbrnPQw",
        "outputId": "10782d8c-b013-4e94-c1c9-c9473be73811"
      },
      "execution_count": null,
      "outputs": [
        {
          "output_type": "stream",
          "name": "stdout",
          "text": [
            "'To Kill a Mockingbird' by Harper Lee, published in 1960\n"
          ]
        }
      ]
    },
    {
      "cell_type": "code",
      "source": [
        "# 18. Create a class House with attributes address and price. Create a derived class Mansion that adds an attribute number_of_rooms.\n",
        "\n",
        "# Create a class House with attributes address and price.\n",
        "# Create a derived class Mansion that adds an attribute number_of_rooms.\n",
        "\n",
        "# Parent class\n",
        "class House:\n",
        "    def __init__(self, address, price):\n",
        "        self.address = address\n",
        "        self.price = price\n",
        "\n",
        "    def display_info(self):\n",
        "        print(f\"Address: {self.address}\")\n",
        "        print(f\"Price: ₹{self.price}\")\n",
        "\n",
        "# Child class (inherits from House)\n",
        "class Mansion(House):\n",
        "    def __init__(self, address, price, number_of_rooms):\n",
        "        # Call the parent constructor\n",
        "        super().__init__(address, price)\n",
        "        # Add new attribute\n",
        "        self.number_of_rooms = number_of_rooms\n",
        "\n",
        "    def display_info(self):\n",
        "        # Override to include room count\n",
        "        super().display_info()\n",
        "        print(f\"Number of Rooms: {self.number_of_rooms}\")\n",
        "\n",
        "# Example usage\n",
        "m1 = Mansion(\"123 Royal Street\", 75000000, 10)\n",
        "m1.display_info()\n"
      ],
      "metadata": {
        "colab": {
          "base_uri": "https://localhost:8080/"
        },
        "id": "eaqMd6JpnXzj",
        "outputId": "acc0ae18-4f46-498d-d346-a449ab316a7c"
      },
      "execution_count": 1,
      "outputs": [
        {
          "output_type": "stream",
          "name": "stdout",
          "text": [
            "Address: 123 Royal Street\n",
            "Price: ₹75000000\n",
            "Number of Rooms: 10\n"
          ]
        }
      ]
    },
    {
      "cell_type": "code",
      "source": [],
      "metadata": {
        "id": "kyHE3gqZBoC_"
      },
      "execution_count": null,
      "outputs": []
    }
  ]
}